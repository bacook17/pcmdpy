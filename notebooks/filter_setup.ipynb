{
 "cells": [
  {
   "cell_type": "markdown",
   "metadata": {
    "toc": true
   },
   "source": [
    "<h1>Table of Contents<span class=\"tocSkip\"></span></h1>\n",
    "<div class=\"toc\"><ul class=\"toc-item\"></ul></div>"
   ]
  },
  {
   "cell_type": "code",
   "execution_count": 1,
   "metadata": {},
   "outputs": [
    {
     "name": "stdout",
     "output_type": "stream",
     "text": [
      "GPU acceleration not available, sorry\n",
      "No module named 'pycuda'\n"
     ]
    }
   ],
   "source": [
    "import numpy as np, matplotlib.pyplot\n",
    "from astropy.io import fits\n",
    "import pysynphot as pyS\n",
    "import pcmdpy as ppy"
   ]
  },
  {
   "cell_type": "code",
   "execution_count": 2,
   "metadata": {},
   "outputs": [],
   "source": [
    "def compute_zpts(instrument, detector, band, mjd):\n",
    "    bandpass = pyS.ObsBandpass('{:s},{:s},{:s},mjd#{:d}'.format(instrument, detector, band, mjd))\n",
    "    spec_bb = pyS.BlackBody(50000)\n",
    "    spec_bb_norm = spec_bb.renorm(1, 'counts', bandpass)\n",
    "    obs = pyS.Observation(spec_bb_norm, bandpass)\n",
    "    zps = {}\n",
    "    zps['vega'] = obs.effstim('vegamag')\n",
    "    zps['st'] = obs.effstim('stmag')\n",
    "    zps['ab'] = obs.effstim('abmag')\n",
    "    return zps"
   ]
  },
  {
   "cell_type": "code",
   "execution_count": 30,
   "metadata": {},
   "outputs": [
    {
     "data": {
      "text/plain": [
       "22.287894177850866"
      ]
     },
     "execution_count": 30,
     "metadata": {},
     "output_type": "execute_result"
    }
   ],
   "source": [
    "# acs wfc1 F475W 52809\n",
    "bandpass = pyS.ObsBandpass('acs,wfc1,F850lp,mjd#52809,aper#0')\n",
    "spec_bb = pyS.BlackBody(50000)\n",
    "spec_bb_norm = spec_bb.renorm(1.0, 'counts', bandpass)\n",
    "obs = pyS.Observation(spec_bb_norm, bandpass)\n",
    "obs.effstim('vegamag')"
   ]
  },
  {
   "cell_type": "code",
   "execution_count": 31,
   "metadata": {},
   "outputs": [
    {
     "data": {
      "text/plain": [
       "24.50234982606775"
      ]
     },
     "execution_count": 31,
     "metadata": {},
     "output_type": "execute_result"
    }
   ],
   "source": [
    "# acs wfc1 F475W 52809\n",
    "bandpass = pyS.ObsBandpass('acs,wfc1,F475w,mjd#52809,aper#0')\n",
    "spec_bb = pyS.BlackBody(50000)\n",
    "spec_bb_norm = spec_bb.renorm(1.0, 'counts', bandpass)\n",
    "obs = pyS.Observation(spec_bb_norm, bandpass)\n",
    "obs.effstim('vegamag')"
   ]
  },
  {
   "cell_type": "code",
   "execution_count": 32,
   "metadata": {},
   "outputs": [
    {
     "data": {
      "text/plain": [
       "24.353030715106456"
      ]
     },
     "execution_count": 32,
     "metadata": {},
     "output_type": "execute_result"
    }
   ],
   "source": [
    "# acs wfc1 F475W 52809\n",
    "bandpass = pyS.ObsBandpass('acs,wfc1,F850lp,mjd#52809,aper#4.0')\n",
    "spec_bb = pyS.BlackBody(50000)\n",
    "spec_bb_norm = spec_bb.renorm(1.0, 'counts', bandpass)\n",
    "obs = pyS.Observation(spec_bb_norm, bandpass)\n",
    "obs.effstim('vegamag')"
   ]
  },
  {
   "cell_type": "code",
   "execution_count": 33,
   "metadata": {},
   "outputs": [
    {
     "data": {
      "text/plain": [
       "26.174635544520704"
      ]
     },
     "execution_count": 33,
     "metadata": {},
     "output_type": "execute_result"
    }
   ],
   "source": [
    "# acs wfc1 F475W 52809\n",
    "bandpass = pyS.ObsBandpass('acs,wfc1,F475w,mjd#52809,aper#4.0')\n",
    "spec_bb = pyS.BlackBody(50000)\n",
    "spec_bb_norm = spec_bb.renorm(1.0, 'counts', bandpass)\n",
    "obs = pyS.Observation(spec_bb_norm, bandpass)\n",
    "obs.effstim('vegamag')"
   ]
  },
  {
   "cell_type": "code",
   "execution_count": 57,
   "metadata": {},
   "outputs": [],
   "source": [
    "def process_fits(file_name, use_proc=False):\n",
    "    with fits.open(file_name) as hdu:\n",
    "        header = hdu[0].header\n",
    "    instrument = header['INSTRUME'].lower().strip(' ')\n",
    "    detector = header['DETECTOR'].lower().strip(' ')\n",
    "    if detector == 'wfc':\n",
    "        detector = 'wfc1'\n",
    "    band = None\n",
    "    for k in ['FILTER', 'FILTER1', 'FILTER2']:\n",
    "        if k in header:\n",
    "            b_temp = header[k]\n",
    "            if 'CLEAR' in b_temp:\n",
    "                continue\n",
    "            else:\n",
    "                band = b_temp\n",
    "                break\n",
    "    if band is None:\n",
    "        raise KeyError('Unable to identify filter from FITS file')\n",
    "    if use_proc:\n",
    "        mjd = int(header['PROCTIME'])\n",
    "    else:\n",
    "        mjd = int(header['EXPSTART'])\n",
    "    exposure = header['EXPTIME']\n",
    "    zpts = compute_zpts(instrument, detector, band, mjd)\n",
    "    print('Filter: {:s}'.format(band))\n",
    "    print('Observation Date: {:d} (MJD)'.format(mjd))\n",
    "    print('Vega ZeroPoint: {:.4f}'.format(zpts['vega']))\n",
    "    print('AB ZeroPoint: {:.4f}'.format(zpts['ab']))\n",
    "    print('ST ZeroPoint: {:.4f}'.format(zpts['st']))\n",
    "    print('Exposure Time: {:.1f}'.format(exposure))"
   ]
  },
  {
   "cell_type": "code",
   "execution_count": 58,
   "metadata": {
    "scrolled": false
   },
   "outputs": [
    {
     "name": "stdout",
     "output_type": "stream",
     "text": [
      "B band, M51 Obs\n",
      "Filter: F435W\n",
      "Observation Date: 53382 (MJD)\n",
      "Vega ZeroPoint: 25.7890\n",
      "AB ZeroPoint: 25.6908\n",
      "ST ZeroPoint: 25.1805\n",
      "Exposure Time: 16320.0\n"
     ]
    }
   ],
   "source": [
    "print('B band, M51 Obs')\n",
    "process_fits('../../data/h_m51_b_s05_drz_sci.fits')"
   ]
  },
  {
   "cell_type": "code",
   "execution_count": 59,
   "metadata": {
    "scrolled": true
   },
   "outputs": [
    {
     "name": "stdout",
     "output_type": "stream",
     "text": [
      "g band, M31 PHAT\n",
      "Filter: F475W\n",
      "Observation Date: 56122 (MJD)\n",
      "Vega ZeroPoint: 26.1511\n",
      "AB ZeroPoint: 26.0586\n",
      "ST ZeroPoint: 25.7483\n",
      "Exposure Time: 1710.0\n"
     ]
    }
   ],
   "source": [
    "print('g band, M31 PHAT')\n",
    "process_fits('../../data/hlsp_phat_hst_acs-wfc_12105-m31-b06-f02_f475w_v1_drz.fits')"
   ]
  },
  {
   "cell_type": "code",
   "execution_count": 60,
   "metadata": {
    "scrolled": false
   },
   "outputs": [
    {
     "name": "stdout",
     "output_type": "stream",
     "text": [
      "g band, M49 Obs\n",
      "Filter: F475W\n",
      "Observation Date: 52809 (MJD)\n",
      "Vega ZeroPoint: 26.1746\n",
      "AB ZeroPoint: 26.0820\n",
      "ST ZeroPoint: 25.7713\n",
      "Exposure Time: 375.0\n"
     ]
    }
   ],
   "source": [
    "print('g band, M49 Obs')\n",
    "process_fits('../../data/m49/raw/m49_chip1_exp1_f475w_flc.fits')"
   ]
  },
  {
   "cell_type": "code",
   "execution_count": 61,
   "metadata": {
    "scrolled": false
   },
   "outputs": [
    {
     "name": "stdout",
     "output_type": "stream",
     "text": [
      "g band, M49 Obs\n",
      "Filter: F475W\n",
      "Observation Date: 52809 (MJD)\n",
      "Vega ZeroPoint: 26.1746\n",
      "AB ZeroPoint: 26.0820\n",
      "ST ZeroPoint: 25.7713\n",
      "Exposure Time: 375.0\n"
     ]
    }
   ],
   "source": [
    "print('g band, M49 Obs')\n",
    "process_fits('../../data/m49/raw/m49_chip2_exp2_f475w_flc.fits')"
   ]
  },
  {
   "cell_type": "code",
   "execution_count": 62,
   "metadata": {
    "scrolled": true
   },
   "outputs": [
    {
     "name": "stdout",
     "output_type": "stream",
     "text": [
      "V band, M51 Obs\n",
      "Filter: F555W\n",
      "Observation Date: 53382 (MJD)\n",
      "Vega ZeroPoint: 25.7323\n",
      "AB ZeroPoint: 25.7324\n",
      "ST ZeroPoint: 25.6862\n",
      "Exposure Time: 8160.0\n"
     ]
    }
   ],
   "source": [
    "print('V band, M51 Obs')\n",
    "process_fits('../../data/h_m51_v_s05_drz_sci.fits')"
   ]
  },
  {
   "cell_type": "code",
   "execution_count": 63,
   "metadata": {
    "scrolled": true
   },
   "outputs": [
    {
     "name": "stdout",
     "output_type": "stream",
     "text": [
      "I band, M51 Obs\n",
      "Filter: F814W\n",
      "Observation Date: 53382 (MJD)\n",
      "Vega ZeroPoint: 25.5286\n",
      "AB ZeroPoint: 25.9568\n",
      "ST ZeroPoint: 26.7930\n",
      "Exposure Time: 8160.0\n"
     ]
    }
   ],
   "source": [
    "print('I band, M51 Obs')\n",
    "process_fits('../../data/h_m51_i_s05_drz_sci.fits')"
   ]
  },
  {
   "cell_type": "code",
   "execution_count": 64,
   "metadata": {
    "scrolled": true
   },
   "outputs": [
    {
     "name": "stdout",
     "output_type": "stream",
     "text": [
      "I band, M31 PHAT\n",
      "Filter: F814W\n",
      "Observation Date: 56121 (MJD)\n",
      "Vega ZeroPoint: 25.5191\n",
      "AB ZeroPoint: 25.9471\n",
      "ST ZeroPoint: 26.7827\n",
      "Exposure Time: 1505.0\n"
     ]
    }
   ],
   "source": [
    "print('I band, M31 PHAT')\n",
    "process_fits('../../data/hlsp_phat_hst_acs-wfc_12105-m31-b06-f02_f814w_v1_drz.fits')"
   ]
  },
  {
   "cell_type": "code",
   "execution_count": 65,
   "metadata": {
    "scrolled": false
   },
   "outputs": [
    {
     "name": "stdout",
     "output_type": "stream",
     "text": [
      "z band, M49 Obs\n",
      "Filter: F850LP\n",
      "Observation Date: 52809 (MJD)\n",
      "Vega ZeroPoint: 24.3530\n",
      "AB ZeroPoint: 24.8788\n",
      "ST ZeroPoint: 25.9668\n",
      "Exposure Time: 560.0\n"
     ]
    }
   ],
   "source": [
    "print('z band, M49 Obs')\n",
    "process_fits('../../data/m49/raw/m49_chip1_exp1_f850lp_flc.fits')"
   ]
  },
  {
   "cell_type": "code",
   "execution_count": 66,
   "metadata": {
    "scrolled": false
   },
   "outputs": [
    {
     "name": "stdout",
     "output_type": "stream",
     "text": [
      "z band, M49 Obs\n",
      "Filter: F850LP\n",
      "Observation Date: 52809 (MJD)\n",
      "Vega ZeroPoint: 24.3530\n",
      "AB ZeroPoint: 24.8788\n",
      "ST ZeroPoint: 25.9668\n",
      "Exposure Time: 560.0\n"
     ]
    }
   ],
   "source": [
    "print('z band, M49 Obs')\n",
    "process_fits('../../data/m49/raw/m49_chip2_exp2_f850lp_flc.fits')"
   ]
  },
  {
   "cell_type": "code",
   "execution_count": null,
   "metadata": {},
   "outputs": [],
   "source": []
  }
 ],
 "metadata": {
  "kernelspec": {
   "display_name": "Python 3",
   "language": "python",
   "name": "python3"
  },
  "language_info": {
   "codemirror_mode": {
    "name": "ipython",
    "version": 3
   },
   "file_extension": ".py",
   "mimetype": "text/x-python",
   "name": "python",
   "nbconvert_exporter": "python",
   "pygments_lexer": "ipython3",
   "version": "3.6.4"
  },
  "toc": {
   "nav_menu": {},
   "number_sections": false,
   "sideBar": true,
   "skip_h1_title": false,
   "title_cell": "Table of Contents",
   "title_sidebar": "Contents",
   "toc_cell": true,
   "toc_position": {},
   "toc_section_display": true,
   "toc_window_display": true
  }
 },
 "nbformat": 4,
 "nbformat_minor": 2
}
