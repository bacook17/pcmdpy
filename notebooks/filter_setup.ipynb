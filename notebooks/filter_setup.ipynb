{
 "cells": [
  {
   "cell_type": "markdown",
   "metadata": {
    "toc": true
   },
   "source": [
    "<h1>Table of Contents<span class=\"tocSkip\"></span></h1>\n",
    "<div class=\"toc\"><ul class=\"toc-item\"></ul></div>"
   ]
  },
  {
   "cell_type": "code",
   "execution_count": 1,
   "metadata": {},
   "outputs": [
    {
     "name": "stdout",
     "output_type": "stream",
     "text": [
      "GPU acceleration not available, sorry\n",
      "No module named 'pycuda'\n"
     ]
    }
   ],
   "source": [
    "import numpy as np, matplotlib.pyplot\n",
    "from astropy.io import fits\n",
    "import pysynphot as pyS\n",
    "import pcmdpy as ppy"
   ]
  },
  {
   "cell_type": "code",
   "execution_count": 45,
   "metadata": {
    "collapsed": true
   },
   "outputs": [],
   "source": [
    "def compute_zpts(instrument, detector, band, mjd):\n",
    "    bandpass = pyS.ObsBandpass('{:s},{:s},{:s},mjd#{:d}'.format(instrument, detector, band, mjd))\n",
    "    spec_bb = pyS.BlackBody(50000)\n",
    "    spec_bb_norm = spec_bb.renorm(1, 'counts', bandpass)\n",
    "    obs = pyS.Observation(spec_bb_norm, bandpass)\n",
    "    zps = {}\n",
    "    zps['vega'] = obs.effstim('vegamag')\n",
    "    zps['st'] = obs.effstim('stmag')\n",
    "    zps['ab'] = obs.effstim('abmag')\n",
    "    return zps"
   ]
  },
  {
   "cell_type": "code",
   "execution_count": 59,
   "metadata": {
    "collapsed": true
   },
   "outputs": [],
   "source": [
    "def process_fits(file_name):\n",
    "    with fits.open(file_name) as hdu:\n",
    "        header = hdu[0].header\n",
    "    instrument = header['INSTRUME'].lower().strip(' ')\n",
    "    detector = header['DETECTOR'].lower().strip(' ')\n",
    "    if detector == 'wfc':\n",
    "        detector = 'wfc1'\n",
    "    band = None\n",
    "    for k in ['FILTER', 'FILTER1', 'FILTER2']:\n",
    "        if k in header:\n",
    "            b_temp = header[k]\n",
    "            if 'CLEAR' in b_temp:\n",
    "                continue\n",
    "            else:\n",
    "                band = b_temp\n",
    "                break\n",
    "    if band is None:\n",
    "        raise KeyError('Unable to identify filter from FITS file')\n",
    "    mjd = int(header['PROCTIME'])\n",
    "    exposure = header['EXPTIME']\n",
    "    zpts = compute_zpts(instrument, detector, band, mjd)\n",
    "    print('Filter: {:s}'.format(band))\n",
    "    print('Observation Date: {:d} (MJD)'.format(mjd))\n",
    "    print('Vega ZeroPoint: {:.4f}'.format(zpts['vega']))\n",
    "    print('AB ZeroPoint: {:.4f}'.format(zpts['ab']))\n",
    "    print('ST ZeroPoint: {:.4f}'.format(zpts['st']))\n",
    "    print('Exposure Time: {:.1f}'.format(exposure))"
   ]
  },
  {
   "cell_type": "code",
   "execution_count": 60,
   "metadata": {
    "scrolled": false
   },
   "outputs": [
    {
     "name": "stdout",
     "output_type": "stream",
     "text": [
      "Filter: F435W\n",
      "Observation Date: 53478 (MJD)\n",
      "Vega ZeroPoint: 25.7885\n",
      "AB ZeroPoint: 25.6903\n",
      "ST ZeroPoint: 25.1801\n",
      "Exposure Time: 16320.0\n"
     ]
    }
   ],
   "source": [
    "process_fits('../../data/h_m51_b_s05_drz_sci.fits')"
   ]
  },
  {
   "cell_type": "code",
   "execution_count": 63,
   "metadata": {
    "scrolled": true
   },
   "outputs": [
    {
     "name": "stdout",
     "output_type": "stream",
     "text": [
      "Filter: F475W\n",
      "Observation Date: 56126 (MJD)\n",
      "Vega ZeroPoint: 26.1511\n",
      "AB ZeroPoint: 26.0586\n",
      "ST ZeroPoint: 25.7483\n",
      "Exposure Time: 1710.0\n"
     ]
    }
   ],
   "source": [
    "process_fits('../../data/hlsp_phat_hst_acs-wfc_12105-m31-b06-f02_f475w_v1_drz.fits')"
   ]
  },
  {
   "cell_type": "code",
   "execution_count": 61,
   "metadata": {
    "scrolled": true
   },
   "outputs": [
    {
     "name": "stdout",
     "output_type": "stream",
     "text": [
      "Filter: F555W\n",
      "Observation Date: 53478 (MJD)\n",
      "Vega ZeroPoint: 25.7318\n",
      "AB ZeroPoint: 25.7319\n",
      "ST ZeroPoint: 25.6857\n",
      "Exposure Time: 8160.0\n"
     ]
    }
   ],
   "source": [
    "process_fits('../../data/h_m51_v_s05_drz_sci.fits')"
   ]
  },
  {
   "cell_type": "code",
   "execution_count": 66,
   "metadata": {
    "scrolled": true
   },
   "outputs": [
    {
     "name": "stdout",
     "output_type": "stream",
     "text": [
      "M51 Observations\n",
      "Filter: F814W\n",
      "Observation Date: 53478 (MJD)\n",
      "Vega ZeroPoint: 25.5283\n",
      "AB ZeroPoint: 25.9565\n",
      "ST ZeroPoint: 26.7927\n",
      "Exposure Time: 8160.0\n"
     ]
    }
   ],
   "source": [
    "print('M51 Observations')\n",
    "process_fits('../../data/h_m51_i_s05_drz_sci.fits')"
   ]
  },
  {
   "cell_type": "code",
   "execution_count": 65,
   "metadata": {
    "scrolled": true
   },
   "outputs": [
    {
     "name": "stdout",
     "output_type": "stream",
     "text": [
      "M31 Observations with PHAT\n",
      "Filter: F814W\n",
      "Observation Date: 56126 (MJD)\n",
      "Vega ZeroPoint: 25.5191\n",
      "AB ZeroPoint: 25.9471\n",
      "ST ZeroPoint: 26.7827\n",
      "Exposure Time: 1505.0\n"
     ]
    }
   ],
   "source": [
    "print('M31 Observations with PHAT')\n",
    "process_fits('../../data/hlsp_phat_hst_acs-wfc_12105-m31-b06-f02_f814w_v1_drz.fits')"
   ]
  },
  {
   "cell_type": "code",
   "execution_count": null,
   "metadata": {
    "collapsed": true
   },
   "outputs": [],
   "source": []
  }
 ],
 "metadata": {
  "kernelspec": {
   "display_name": "Python 3",
   "language": "python",
   "name": "python3"
  },
  "language_info": {
   "codemirror_mode": {
    "name": "ipython",
    "version": 3
   },
   "file_extension": ".py",
   "mimetype": "text/x-python",
   "name": "python",
   "nbconvert_exporter": "python",
   "pygments_lexer": "ipython3",
   "version": "3.6.3"
  },
  "toc": {
   "nav_menu": {},
   "number_sections": false,
   "sideBar": true,
   "skip_h1_title": false,
   "title_cell": "Table of Contents",
   "title_sidebar": "Contents",
   "toc_cell": true,
   "toc_position": {},
   "toc_section_display": true,
   "toc_window_display": true
  }
 },
 "nbformat": 4,
 "nbformat_minor": 2
}
