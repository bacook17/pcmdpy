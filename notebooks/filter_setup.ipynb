{
 "cells": [
  {
   "cell_type": "code",
   "execution_count": 2,
   "metadata": {},
   "outputs": [
    {
     "name": "stdout",
     "output_type": "stream",
     "text": [
      "GPU acceleration not available, sorry\n",
      "No module named 'pycuda'\n"
     ]
    }
   ],
   "source": [
    "import numpy as np, matplotlib.pyplot\n",
    "from astropy.io import fits\n",
    "import pcmdpy as ppy"
   ]
  },
  {
   "cell_type": "code",
   "execution_count": 10,
   "metadata": {
    "collapsed": true
   },
   "outputs": [],
   "source": [
    "def compute_ab_zeropoint(header):    \n",
    "    #http://www.stsci.edu/hst/acs/analysis/zeropoints\n",
    "    ## IN AB SYSTEM\n",
    "    return -2.5*np.log10(header['PHOTFLAM']) - 5.0*np.log10(header['PHOTPLAM']) - 2.408"
   ]
  },
  {
   "cell_type": "code",
   "execution_count": 11,
   "metadata": {
    "collapsed": true
   },
   "outputs": [],
   "source": [
    "def custom_filter(fits_file, dist, psf, name, MIST_column, red_per_ebv, vega_to_ab=0., vega_to_st=0.):\n",
    "    header = fits.open(fits_file)[0].header\n",
    "    exposure = header['EXPTIME']\n",
    "    ab_zpt = compute_zeropoint(header)\n",
    "    vega_zpt = ab_zpt - vega_to_ab\n",
    "    return ppy.instrument.Filter(exposure, vega_zpt, dist, red_per_ebv, vega_to_ab, vega_to_st, name=name,\n",
    "                                MIST_column=MIST_column)"
   ]
  },
  {
   "cell_type": "code",
   "execution_count": 20,
   "metadata": {
    "collapsed": true
   },
   "outputs": [],
   "source": [
    "filters = {'F435W':'../../data/h_m51_b_s05_drz_sci.fits', 'F555W':'../../data/h_m51_v_s05_drz_sci.fits',\n",
    "          'F814W':'../../data/h_m51_i_s05_drz_sci.fits'}\n",
    "vega_to_ab = {'F435W':0.1017, 'F555W':0.0063, 'F814W':-.4237}"
   ]
  },
  {
   "cell_type": "code",
   "execution_count": 21,
   "metadata": {},
   "outputs": [
    {
     "name": "stdout",
     "output_type": "stream",
     "text": [
      "F435W 25.5714312283\n",
      "F555W 25.7116748568\n",
      "F814W 26.3601790112\n"
     ]
    }
   ],
   "source": [
    "for n, f in filters.items():\n",
    "    header = fits.open(f)[0].header\n",
    "    print(n, compute_ab_zeropoint(header) - vega_to_ab[n])"
   ]
  },
  {
   "cell_type": "code",
   "execution_count": 19,
   "metadata": {},
   "outputs": [
    {
     "name": "stdout",
     "output_type": "stream",
     "text": [
      "F435W 25.6731312283\n",
      "F555W 25.7179748568\n",
      "F814W 25.9364790112\n"
     ]
    }
   ],
   "source": [
    "for n, f in filters.items():\n",
    "    header = fits.open(f)[0].header\n",
    "    print(n, compute_ab_zeropoint(header))"
   ]
  },
  {
   "cell_type": "code",
   "execution_count": null,
   "metadata": {
    "collapsed": true
   },
   "outputs": [],
   "source": []
  }
 ],
 "metadata": {
  "kernelspec": {
   "display_name": "Python 3",
   "language": "python",
   "name": "python3"
  },
  "language_info": {
   "codemirror_mode": {
    "name": "ipython",
    "version": 3
   },
   "file_extension": ".py",
   "mimetype": "text/x-python",
   "name": "python",
   "nbconvert_exporter": "python",
   "pygments_lexer": "ipython3",
   "version": "3.6.3"
  }
 },
 "nbformat": 4,
 "nbformat_minor": 2
}
